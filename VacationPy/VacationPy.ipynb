{
 "cells": [
  {
   "cell_type": "markdown",
   "metadata": {},
   "source": [
    "# VacationPy\n",
    "----\n",
    "\n",
    "#### Note\n",
    "* Instructions have been included for each segment. You do not have to follow them exactly, but they are included to help you think through the steps."
   ]
  },
  {
   "cell_type": "code",
   "execution_count": 1,
   "metadata": {},
   "outputs": [],
   "source": [
    "# Dependencies and Setup\n",
    "import matplotlib.pyplot as plt\n",
    "import pandas as pd\n",
    "import numpy as np\n",
    "import requests\n",
    "import gmaps\n",
    "import os\n",
    "\n",
    "# Import API key\n",
    "from api_keys import g_key"
   ]
  },
  {
   "cell_type": "markdown",
   "metadata": {},
   "source": [
    "### Store Part I results into DataFrame\n",
    "* Load the csv exported in Part I to a DataFrame"
   ]
  },
  {
   "cell_type": "code",
   "execution_count": 2,
   "metadata": {},
   "outputs": [
    {
     "output_type": "execute_result",
     "data": {
      "text/plain": [
       "             City Country    Lat   Temp  Cloudiness  Humidity  WindSpeed  \\\n",
       "0    puerto ayora      EC  -0.74  75.20        40.0      69.0      10.29   \n",
       "1          bethel      US  41.37  53.60        40.0      54.0       3.36   \n",
       "2     yellowknife      CA  62.46  17.60        75.0      67.0       6.93   \n",
       "3            chuy      UY -33.70  61.72       100.0      94.0      14.05   \n",
       "4          albany      US  42.60  48.99       100.0      64.0       2.39   \n",
       "..            ...     ...    ...    ...         ...       ...        ...   \n",
       "556        mehamn      NO  71.04  32.00         0.0      84.0       8.05   \n",
       "557    diamantino      BR -14.41  81.32        93.0      72.0       2.86   \n",
       "558   polovinnoye      RU  54.79  26.20        98.0      94.0      18.45   \n",
       "559     anchorage      US  61.22  34.00        75.0      86.0       3.80   \n",
       "560   nyuksenitsa      RU  60.41  38.95       100.0      92.0       9.84   \n",
       "\n",
       "           Date  \n",
       "0    1603837340  \n",
       "1    1603837199  \n",
       "2    1603837361  \n",
       "3    1603837335  \n",
       "4    1603837260  \n",
       "..          ...  \n",
       "556  1603837440  \n",
       "557  1603837369  \n",
       "558  1603837440  \n",
       "559  1603837440  \n",
       "560  1603837440  \n",
       "\n",
       "[561 rows x 8 columns]"
      ],
      "text/html": "<div>\n<style scoped>\n    .dataframe tbody tr th:only-of-type {\n        vertical-align: middle;\n    }\n\n    .dataframe tbody tr th {\n        vertical-align: top;\n    }\n\n    .dataframe thead th {\n        text-align: right;\n    }\n</style>\n<table border=\"1\" class=\"dataframe\">\n  <thead>\n    <tr style=\"text-align: right;\">\n      <th></th>\n      <th>City</th>\n      <th>Country</th>\n      <th>Lat</th>\n      <th>Temp</th>\n      <th>Cloudiness</th>\n      <th>Humidity</th>\n      <th>WindSpeed</th>\n      <th>Date</th>\n    </tr>\n  </thead>\n  <tbody>\n    <tr>\n      <th>0</th>\n      <td>puerto ayora</td>\n      <td>EC</td>\n      <td>-0.74</td>\n      <td>75.20</td>\n      <td>40.0</td>\n      <td>69.0</td>\n      <td>10.29</td>\n      <td>1603837340</td>\n    </tr>\n    <tr>\n      <th>1</th>\n      <td>bethel</td>\n      <td>US</td>\n      <td>41.37</td>\n      <td>53.60</td>\n      <td>40.0</td>\n      <td>54.0</td>\n      <td>3.36</td>\n      <td>1603837199</td>\n    </tr>\n    <tr>\n      <th>2</th>\n      <td>yellowknife</td>\n      <td>CA</td>\n      <td>62.46</td>\n      <td>17.60</td>\n      <td>75.0</td>\n      <td>67.0</td>\n      <td>6.93</td>\n      <td>1603837361</td>\n    </tr>\n    <tr>\n      <th>3</th>\n      <td>chuy</td>\n      <td>UY</td>\n      <td>-33.70</td>\n      <td>61.72</td>\n      <td>100.0</td>\n      <td>94.0</td>\n      <td>14.05</td>\n      <td>1603837335</td>\n    </tr>\n    <tr>\n      <th>4</th>\n      <td>albany</td>\n      <td>US</td>\n      <td>42.60</td>\n      <td>48.99</td>\n      <td>100.0</td>\n      <td>64.0</td>\n      <td>2.39</td>\n      <td>1603837260</td>\n    </tr>\n    <tr>\n      <th>...</th>\n      <td>...</td>\n      <td>...</td>\n      <td>...</td>\n      <td>...</td>\n      <td>...</td>\n      <td>...</td>\n      <td>...</td>\n      <td>...</td>\n    </tr>\n    <tr>\n      <th>556</th>\n      <td>mehamn</td>\n      <td>NO</td>\n      <td>71.04</td>\n      <td>32.00</td>\n      <td>0.0</td>\n      <td>84.0</td>\n      <td>8.05</td>\n      <td>1603837440</td>\n    </tr>\n    <tr>\n      <th>557</th>\n      <td>diamantino</td>\n      <td>BR</td>\n      <td>-14.41</td>\n      <td>81.32</td>\n      <td>93.0</td>\n      <td>72.0</td>\n      <td>2.86</td>\n      <td>1603837369</td>\n    </tr>\n    <tr>\n      <th>558</th>\n      <td>polovinnoye</td>\n      <td>RU</td>\n      <td>54.79</td>\n      <td>26.20</td>\n      <td>98.0</td>\n      <td>94.0</td>\n      <td>18.45</td>\n      <td>1603837440</td>\n    </tr>\n    <tr>\n      <th>559</th>\n      <td>anchorage</td>\n      <td>US</td>\n      <td>61.22</td>\n      <td>34.00</td>\n      <td>75.0</td>\n      <td>86.0</td>\n      <td>3.80</td>\n      <td>1603837440</td>\n    </tr>\n    <tr>\n      <th>560</th>\n      <td>nyuksenitsa</td>\n      <td>RU</td>\n      <td>60.41</td>\n      <td>38.95</td>\n      <td>100.0</td>\n      <td>92.0</td>\n      <td>9.84</td>\n      <td>1603837440</td>\n    </tr>\n  </tbody>\n</table>\n<p>561 rows × 8 columns</p>\n</div>"
     },
     "metadata": {},
     "execution_count": 2
    }
   ],
   "source": [
    "\n",
    "df = pd.read_csv('../WeatherPy/output_data/WeatherPy.csv')\n",
    "df"
   ]
  },
  {
   "cell_type": "markdown",
   "metadata": {},
   "source": [
    "### Humidity Heatmap\n",
    "* Configure gmaps.\n",
    "* Use the Lat and Lng as locations and Humidity as the weight.\n",
    "* Add Heatmap layer to map."
   ]
  },
  {
   "cell_type": "code",
   "execution_count": null,
   "metadata": {},
   "outputs": [],
   "source": []
  },
  {
   "cell_type": "markdown",
   "metadata": {},
   "source": [
    "### Create new DataFrame fitting weather criteria\n",
    "* Narrow down the cities to fit weather conditions.\n",
    "* Drop any rows will null values."
   ]
  },
  {
   "cell_type": "code",
   "execution_count": null,
   "metadata": {},
   "outputs": [],
   "source": []
  },
  {
   "cell_type": "markdown",
   "metadata": {},
   "source": [
    "### Hotel Map\n",
    "* Store into variable named `hotel_df`.\n",
    "* Add a \"Hotel Name\" column to the DataFrame.\n",
    "* Set parameters to search for hotels with 5000 meters.\n",
    "* Hit the Google Places API for each city's coordinates.\n",
    "* Store the first Hotel result into the DataFrame.\n",
    "* Plot markers on top of the heatmap."
   ]
  },
  {
   "cell_type": "code",
   "execution_count": null,
   "metadata": {},
   "outputs": [],
   "source": []
  },
  {
   "cell_type": "code",
   "execution_count": null,
   "metadata": {},
   "outputs": [],
   "source": []
  },
  {
   "cell_type": "code",
   "execution_count": null,
   "metadata": {},
   "outputs": [],
   "source": [
    "# NOTE: Do not change any of the code in this cell\n",
    "\n",
    "# Using the template add the hotel marks to the heatmap\n",
    "info_box_template = \"\"\"\n",
    "<dl>\n",
    "<dt>Name</dt><dd>{Hotel Name}</dd>\n",
    "<dt>City</dt><dd>{City}</dd>\n",
    "<dt>Country</dt><dd>{Country}</dd>\n",
    "</dl>\n",
    "\"\"\"\n",
    "# Store the DataFrame Row\n",
    "# NOTE: be sure to update with your DataFrame name\n",
    "hotel_info = [info_box_template.format(**row) for index, row in hotel_df.iterrows()]\n",
    "locations = hotel_df[[\"Lat\", \"Lng\"]]"
   ]
  },
  {
   "cell_type": "code",
   "execution_count": null,
   "metadata": {},
   "outputs": [],
   "source": [
    "# Add marker layer ontop of heat map\n",
    "\n",
    "\n",
    "# Display figure\n"
   ]
  },
  {
   "cell_type": "code",
   "execution_count": null,
   "metadata": {},
   "outputs": [],
   "source": []
  }
 ],
 "metadata": {
  "kernelspec": {
   "name": "Python 3.7.6 64-bit ('base': conda)",
   "display_name": "Python 3.7.6 64-bit ('base': conda)",
   "metadata": {
    "interpreter": {
     "hash": "91c903a029a8949b2bcf1df2d9a3a4f452318ee8762d293d9b970120247642e6"
    }
   }
  },
  "language_info": {
   "codemirror_mode": {
    "name": "ipython",
    "version": 3
   },
   "file_extension": ".py",
   "mimetype": "text/x-python",
   "name": "python",
   "nbconvert_exporter": "python",
   "pygments_lexer": "ipython3",
   "version": "3.7.6-final"
  },
  "latex_envs": {
   "LaTeX_envs_menu_present": true,
   "autoclose": false,
   "autocomplete": true,
   "bibliofile": "biblio.bib",
   "cite_by": "apalike",
   "current_citInitial": 1,
   "eqLabelWithNumbers": true,
   "eqNumInitial": 1,
   "hotkeys": {
    "equation": "Ctrl-E",
    "itemize": "Ctrl-I"
   },
   "labels_anchors": false,
   "latex_user_defs": false,
   "report_style_numbering": false,
   "user_envs_cfg": false
  }
 },
 "nbformat": 4,
 "nbformat_minor": 2
}