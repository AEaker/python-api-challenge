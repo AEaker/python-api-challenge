{
 "cells": [
  {
   "cell_type": "markdown",
   "metadata": {},
   "source": [
    "# VacationPy\n",
    "----\n",
    "\n",
    "#### Note\n",
    "* Instructions have been included for each segment. You do not have to follow them exactly, but they are included to help you think through the steps."
   ]
  },
  {
   "cell_type": "code",
   "execution_count": 5,
   "metadata": {},
   "outputs": [],
   "source": [
    "# Dependencies and Setup\n",
    "import matplotlib.pyplot as plt\n",
    "import pandas as pd\n",
    "import numpy as np\n",
    "import requests\n",
    "import gmaps\n",
    "import os\n",
    "\n",
    "# Import API key\n",
    "from api_keys import g_key\n",
    "gmaps.configure(api_key=g_key)"
   ]
  },
  {
   "cell_type": "markdown",
   "metadata": {},
   "source": [
    "### Store Part I results into DataFrame\n",
    "* Load the csv exported in Part I to a DataFrame"
   ]
  },
  {
   "cell_type": "code",
   "execution_count": 6,
   "metadata": {},
   "outputs": [
    {
     "output_type": "execute_result",
     "data": {
      "text/plain": [
       "           City Country    Lat     Lng   Temp  Cloudiness  Humidity  \\\n",
       "0       honiara      SB  -9.43  159.95  77.00        75.0      94.0   \n",
       "1        vicuna      CL -30.03  -70.71  53.60        90.0      87.0   \n",
       "2     carnarvon      AU -24.87  113.63  73.40        90.0      78.0   \n",
       "3        albany      US  42.60  -73.97  32.00       100.0      89.0   \n",
       "4      powassan      CA  46.03  -79.35  19.99        15.0      76.0   \n",
       "..          ...     ...    ...     ...    ...         ...       ...   \n",
       "566    upington      ZA -28.45   21.26  86.00         0.0      19.0   \n",
       "567    ajdabiya      LY  30.76   20.23  74.91        34.0      55.0   \n",
       "568  filadelfia      US  39.95  -75.16  46.00        90.0     100.0   \n",
       "569      beloha      MG -25.17   45.05  91.78         0.0      26.0   \n",
       "570   sabalgarh      IN  26.25   77.40  79.83         0.0      18.0   \n",
       "\n",
       "     WindSpeed        Date  \n",
       "0         2.24  1604057474  \n",
       "1         4.70  1604057474  \n",
       "2        10.29  1604057475  \n",
       "3         9.24  1604057413  \n",
       "4         5.99  1604057475  \n",
       "..         ...         ...  \n",
       "566       3.36  1604057606  \n",
       "567      13.00  1604057606  \n",
       "568      13.87  1604057382  \n",
       "569      14.63  1604057606  \n",
       "570       5.48  1604057606  \n",
       "\n",
       "[571 rows x 9 columns]"
      ],
      "text/html": "<div>\n<style scoped>\n    .dataframe tbody tr th:only-of-type {\n        vertical-align: middle;\n    }\n\n    .dataframe tbody tr th {\n        vertical-align: top;\n    }\n\n    .dataframe thead th {\n        text-align: right;\n    }\n</style>\n<table border=\"1\" class=\"dataframe\">\n  <thead>\n    <tr style=\"text-align: right;\">\n      <th></th>\n      <th>City</th>\n      <th>Country</th>\n      <th>Lat</th>\n      <th>Lng</th>\n      <th>Temp</th>\n      <th>Cloudiness</th>\n      <th>Humidity</th>\n      <th>WindSpeed</th>\n      <th>Date</th>\n    </tr>\n  </thead>\n  <tbody>\n    <tr>\n      <th>0</th>\n      <td>honiara</td>\n      <td>SB</td>\n      <td>-9.43</td>\n      <td>159.95</td>\n      <td>77.00</td>\n      <td>75.0</td>\n      <td>94.0</td>\n      <td>2.24</td>\n      <td>1604057474</td>\n    </tr>\n    <tr>\n      <th>1</th>\n      <td>vicuna</td>\n      <td>CL</td>\n      <td>-30.03</td>\n      <td>-70.71</td>\n      <td>53.60</td>\n      <td>90.0</td>\n      <td>87.0</td>\n      <td>4.70</td>\n      <td>1604057474</td>\n    </tr>\n    <tr>\n      <th>2</th>\n      <td>carnarvon</td>\n      <td>AU</td>\n      <td>-24.87</td>\n      <td>113.63</td>\n      <td>73.40</td>\n      <td>90.0</td>\n      <td>78.0</td>\n      <td>10.29</td>\n      <td>1604057475</td>\n    </tr>\n    <tr>\n      <th>3</th>\n      <td>albany</td>\n      <td>US</td>\n      <td>42.60</td>\n      <td>-73.97</td>\n      <td>32.00</td>\n      <td>100.0</td>\n      <td>89.0</td>\n      <td>9.24</td>\n      <td>1604057413</td>\n    </tr>\n    <tr>\n      <th>4</th>\n      <td>powassan</td>\n      <td>CA</td>\n      <td>46.03</td>\n      <td>-79.35</td>\n      <td>19.99</td>\n      <td>15.0</td>\n      <td>76.0</td>\n      <td>5.99</td>\n      <td>1604057475</td>\n    </tr>\n    <tr>\n      <th>...</th>\n      <td>...</td>\n      <td>...</td>\n      <td>...</td>\n      <td>...</td>\n      <td>...</td>\n      <td>...</td>\n      <td>...</td>\n      <td>...</td>\n      <td>...</td>\n    </tr>\n    <tr>\n      <th>566</th>\n      <td>upington</td>\n      <td>ZA</td>\n      <td>-28.45</td>\n      <td>21.26</td>\n      <td>86.00</td>\n      <td>0.0</td>\n      <td>19.0</td>\n      <td>3.36</td>\n      <td>1604057606</td>\n    </tr>\n    <tr>\n      <th>567</th>\n      <td>ajdabiya</td>\n      <td>LY</td>\n      <td>30.76</td>\n      <td>20.23</td>\n      <td>74.91</td>\n      <td>34.0</td>\n      <td>55.0</td>\n      <td>13.00</td>\n      <td>1604057606</td>\n    </tr>\n    <tr>\n      <th>568</th>\n      <td>filadelfia</td>\n      <td>US</td>\n      <td>39.95</td>\n      <td>-75.16</td>\n      <td>46.00</td>\n      <td>90.0</td>\n      <td>100.0</td>\n      <td>13.87</td>\n      <td>1604057382</td>\n    </tr>\n    <tr>\n      <th>569</th>\n      <td>beloha</td>\n      <td>MG</td>\n      <td>-25.17</td>\n      <td>45.05</td>\n      <td>91.78</td>\n      <td>0.0</td>\n      <td>26.0</td>\n      <td>14.63</td>\n      <td>1604057606</td>\n    </tr>\n    <tr>\n      <th>570</th>\n      <td>sabalgarh</td>\n      <td>IN</td>\n      <td>26.25</td>\n      <td>77.40</td>\n      <td>79.83</td>\n      <td>0.0</td>\n      <td>18.0</td>\n      <td>5.48</td>\n      <td>1604057606</td>\n    </tr>\n  </tbody>\n</table>\n<p>571 rows × 9 columns</p>\n</div>"
     },
     "metadata": {},
     "execution_count": 6
    }
   ],
   "source": [
    "\n",
    "df = pd.read_csv('../WeatherPy/output_data/WeatherPy.csv')\n",
    "df"
   ]
  },
  {
   "cell_type": "markdown",
   "metadata": {},
   "source": [
    "### Humidity Heatmap\n",
    "* Configure gmaps.\n",
    "* Use the Lat and Lng as locations and Humidity as the weight.\n",
    "* Add Heatmap layer to map."
   ]
  },
  {
   "cell_type": "code",
   "execution_count": 11,
   "metadata": {},
   "outputs": [
    {
     "output_type": "display_data",
     "data": {
      "text/plain": "Figure(layout=FigureLayout(height='420px'))",
      "application/vnd.jupyter.widget-view+json": {
       "version_major": 2,
       "version_minor": 0,
       "model_id": "96b74aba71614a029e6b705533675974"
      }
     },
     "metadata": {}
    }
   ],
   "source": [
    "locations = df[[\"Lat\",\"Lng\"]]\n",
    "\n",
    "fig = gmaps.figure()\n",
    "\n",
    "\n",
    "heat_layer = gmaps.heatmap_layer(locations, weights=df[\"Humidity\"],dissipating=False, max_intensity=100, point_radius=1)\n",
    "fig.add_layer(heat_layer)\n",
    "fig"
   ]
  },
  {
   "cell_type": "markdown",
   "metadata": {},
   "source": [
    "### Create new DataFrame fitting weather criteria\n",
    "* Narrow down the cities to fit weather conditions.\n",
    "* Drop any rows will null values."
   ]
  },
  {
   "cell_type": "code",
   "execution_count": 28,
   "metadata": {},
   "outputs": [
    {
     "output_type": "execute_result",
     "data": {
      "text/plain": [
       "                     City Country    Lat     Lng   Temp  Cloudiness  Humidity  \\\n",
       "21                 bireun      ID   5.20   96.70  81.27       100.0      78.0   \n",
       "38                kavieng      PG  -2.57  150.80  82.17        97.0      74.0   \n",
       "47                   atar      MR  20.52  -13.05  90.43        90.0      15.0   \n",
       "50                labuhan      ID  -6.88  112.21  84.11        76.0      73.0   \n",
       "54             carutapera      BR  -1.20  -46.02  85.10        86.0      63.0   \n",
       "69           port hedland      AU -20.32  118.57  82.40        73.0      69.0   \n",
       "82                 padang      ID  -0.95  100.35  81.70       100.0      72.0   \n",
       "83             vila velha      BR -20.33  -40.29  80.60        75.0      78.0   \n",
       "86              taoudenni      ML  22.68   -3.98  90.57        88.0      12.0   \n",
       "127               palauig      PH  15.44  119.90  81.73        74.0      80.0   \n",
       "149  santo antonio do ica      BR  -3.10  -67.94  80.71        82.0      81.0   \n",
       "165                 penal      TT  10.17  -61.47  80.01        97.0      95.0   \n",
       "171               cayenne      GF   4.93  -52.33  80.60        75.0     100.0   \n",
       "184               prainha      BR  -1.80  -53.48  85.01        78.0      64.0   \n",
       "188                rayong      TH  12.83  101.43  84.99        76.0      82.0   \n",
       "200             okitipupa      NG   6.50    4.78  94.53       100.0      48.0   \n",
       "223                owando      CG  -0.48   15.90  84.69        90.0      65.0   \n",
       "267               katiola      CI   8.13   -5.10  86.00        75.0      66.0   \n",
       "276            sao filipe      CV  14.90  -24.50  83.73        94.0      57.0   \n",
       "293             caravelas      BR -17.71  -39.25  82.65        75.0      64.0   \n",
       "297            pedernales      DO  18.04  -71.74  82.06        99.0      66.0   \n",
       "298             quelimane      MZ -17.88   36.89  89.60        75.0      59.0   \n",
       "316              waingapu      ID  -9.66  120.26  82.67        85.0      75.0   \n",
       "355             boa vista      BR   2.82  -60.67  80.60        75.0      78.0   \n",
       "392                 mweka      CD  -4.85   21.57  80.55        95.0      66.0   \n",
       "403               caninde      BR  -4.36  -39.31  86.86        91.0      44.0   \n",
       "406                sampit      ID  -2.53  112.95  80.10        85.0      83.0   \n",
       "432               sibolga      ID   1.74   98.78  81.01        96.0      77.0   \n",
       "434                kabalo      CD  -6.05   26.92  85.19        95.0      68.0   \n",
       "464              lorengau      PG  -2.02  147.27  81.48        94.0      75.0   \n",
       "523            port blair      IN  11.67   92.75  81.21        87.0      81.0   \n",
       "529              denpasar      ID  -8.65  115.22  80.17        90.0      87.0   \n",
       "550                  bria      CF   6.54   21.99  83.30        71.0      67.0   \n",
       "551             mogadishu      SO   2.04   45.34  82.94        72.0      67.0   \n",
       "557                 nioro      GM  13.35  -15.75  94.42        84.0      26.0   \n",
       "\n",
       "     WindSpeed        Date  \n",
       "21        0.20  1604057480  \n",
       "38        7.16  1604057483  \n",
       "47       10.27  1604057486  \n",
       "50        7.14  1604057487  \n",
       "54       10.89  1604057488  \n",
       "69       12.75  1604057491  \n",
       "82        0.94  1604057293  \n",
       "83       12.75  1604057446  \n",
       "86       11.59  1604057496  \n",
       "127       3.40  1604057507  \n",
       "149       2.73  1604057511  \n",
       "165       1.01  1604057515  \n",
       "171       2.24  1604057407  \n",
       "184       6.35  1604057519  \n",
       "188       3.87  1604057520  \n",
       "200       1.97  1604057523  \n",
       "223       1.88  1604057527  \n",
       "267       2.24  1604057538  \n",
       "276      12.44  1604057540  \n",
       "293      12.03  1604057544  \n",
       "297       1.21  1604057546  \n",
       "298      13.87  1604057546  \n",
       "316       3.15  1604057549  \n",
       "355       1.12  1604057400  \n",
       "392       3.53  1604057567  \n",
       "403       7.72  1604057548  \n",
       "406       3.38  1604057570  \n",
       "432       2.82  1604057283  \n",
       "434       0.76  1604057577  \n",
       "464       5.26  1604057584  \n",
       "523      10.38  1604057596  \n",
       "529       7.18  1604057435  \n",
       "550       3.27  1604057602  \n",
       "551      12.17  1604057602  \n",
       "557       3.62  1604057604  "
      ],
      "text/html": "<div>\n<style scoped>\n    .dataframe tbody tr th:only-of-type {\n        vertical-align: middle;\n    }\n\n    .dataframe tbody tr th {\n        vertical-align: top;\n    }\n\n    .dataframe thead th {\n        text-align: right;\n    }\n</style>\n<table border=\"1\" class=\"dataframe\">\n  <thead>\n    <tr style=\"text-align: right;\">\n      <th></th>\n      <th>City</th>\n      <th>Country</th>\n      <th>Lat</th>\n      <th>Lng</th>\n      <th>Temp</th>\n      <th>Cloudiness</th>\n      <th>Humidity</th>\n      <th>WindSpeed</th>\n      <th>Date</th>\n    </tr>\n  </thead>\n  <tbody>\n    <tr>\n      <th>21</th>\n      <td>bireun</td>\n      <td>ID</td>\n      <td>5.20</td>\n      <td>96.70</td>\n      <td>81.27</td>\n      <td>100.0</td>\n      <td>78.0</td>\n      <td>0.20</td>\n      <td>1604057480</td>\n    </tr>\n    <tr>\n      <th>38</th>\n      <td>kavieng</td>\n      <td>PG</td>\n      <td>-2.57</td>\n      <td>150.80</td>\n      <td>82.17</td>\n      <td>97.0</td>\n      <td>74.0</td>\n      <td>7.16</td>\n      <td>1604057483</td>\n    </tr>\n    <tr>\n      <th>47</th>\n      <td>atar</td>\n      <td>MR</td>\n      <td>20.52</td>\n      <td>-13.05</td>\n      <td>90.43</td>\n      <td>90.0</td>\n      <td>15.0</td>\n      <td>10.27</td>\n      <td>1604057486</td>\n    </tr>\n    <tr>\n      <th>50</th>\n      <td>labuhan</td>\n      <td>ID</td>\n      <td>-6.88</td>\n      <td>112.21</td>\n      <td>84.11</td>\n      <td>76.0</td>\n      <td>73.0</td>\n      <td>7.14</td>\n      <td>1604057487</td>\n    </tr>\n    <tr>\n      <th>54</th>\n      <td>carutapera</td>\n      <td>BR</td>\n      <td>-1.20</td>\n      <td>-46.02</td>\n      <td>85.10</td>\n      <td>86.0</td>\n      <td>63.0</td>\n      <td>10.89</td>\n      <td>1604057488</td>\n    </tr>\n    <tr>\n      <th>69</th>\n      <td>port hedland</td>\n      <td>AU</td>\n      <td>-20.32</td>\n      <td>118.57</td>\n      <td>82.40</td>\n      <td>73.0</td>\n      <td>69.0</td>\n      <td>12.75</td>\n      <td>1604057491</td>\n    </tr>\n    <tr>\n      <th>82</th>\n      <td>padang</td>\n      <td>ID</td>\n      <td>-0.95</td>\n      <td>100.35</td>\n      <td>81.70</td>\n      <td>100.0</td>\n      <td>72.0</td>\n      <td>0.94</td>\n      <td>1604057293</td>\n    </tr>\n    <tr>\n      <th>83</th>\n      <td>vila velha</td>\n      <td>BR</td>\n      <td>-20.33</td>\n      <td>-40.29</td>\n      <td>80.60</td>\n      <td>75.0</td>\n      <td>78.0</td>\n      <td>12.75</td>\n      <td>1604057446</td>\n    </tr>\n    <tr>\n      <th>86</th>\n      <td>taoudenni</td>\n      <td>ML</td>\n      <td>22.68</td>\n      <td>-3.98</td>\n      <td>90.57</td>\n      <td>88.0</td>\n      <td>12.0</td>\n      <td>11.59</td>\n      <td>1604057496</td>\n    </tr>\n    <tr>\n      <th>127</th>\n      <td>palauig</td>\n      <td>PH</td>\n      <td>15.44</td>\n      <td>119.90</td>\n      <td>81.73</td>\n      <td>74.0</td>\n      <td>80.0</td>\n      <td>3.40</td>\n      <td>1604057507</td>\n    </tr>\n    <tr>\n      <th>149</th>\n      <td>santo antonio do ica</td>\n      <td>BR</td>\n      <td>-3.10</td>\n      <td>-67.94</td>\n      <td>80.71</td>\n      <td>82.0</td>\n      <td>81.0</td>\n      <td>2.73</td>\n      <td>1604057511</td>\n    </tr>\n    <tr>\n      <th>165</th>\n      <td>penal</td>\n      <td>TT</td>\n      <td>10.17</td>\n      <td>-61.47</td>\n      <td>80.01</td>\n      <td>97.0</td>\n      <td>95.0</td>\n      <td>1.01</td>\n      <td>1604057515</td>\n    </tr>\n    <tr>\n      <th>171</th>\n      <td>cayenne</td>\n      <td>GF</td>\n      <td>4.93</td>\n      <td>-52.33</td>\n      <td>80.60</td>\n      <td>75.0</td>\n      <td>100.0</td>\n      <td>2.24</td>\n      <td>1604057407</td>\n    </tr>\n    <tr>\n      <th>184</th>\n      <td>prainha</td>\n      <td>BR</td>\n      <td>-1.80</td>\n      <td>-53.48</td>\n      <td>85.01</td>\n      <td>78.0</td>\n      <td>64.0</td>\n      <td>6.35</td>\n      <td>1604057519</td>\n    </tr>\n    <tr>\n      <th>188</th>\n      <td>rayong</td>\n      <td>TH</td>\n      <td>12.83</td>\n      <td>101.43</td>\n      <td>84.99</td>\n      <td>76.0</td>\n      <td>82.0</td>\n      <td>3.87</td>\n      <td>1604057520</td>\n    </tr>\n    <tr>\n      <th>200</th>\n      <td>okitipupa</td>\n      <td>NG</td>\n      <td>6.50</td>\n      <td>4.78</td>\n      <td>94.53</td>\n      <td>100.0</td>\n      <td>48.0</td>\n      <td>1.97</td>\n      <td>1604057523</td>\n    </tr>\n    <tr>\n      <th>223</th>\n      <td>owando</td>\n      <td>CG</td>\n      <td>-0.48</td>\n      <td>15.90</td>\n      <td>84.69</td>\n      <td>90.0</td>\n      <td>65.0</td>\n      <td>1.88</td>\n      <td>1604057527</td>\n    </tr>\n    <tr>\n      <th>267</th>\n      <td>katiola</td>\n      <td>CI</td>\n      <td>8.13</td>\n      <td>-5.10</td>\n      <td>86.00</td>\n      <td>75.0</td>\n      <td>66.0</td>\n      <td>2.24</td>\n      <td>1604057538</td>\n    </tr>\n    <tr>\n      <th>276</th>\n      <td>sao filipe</td>\n      <td>CV</td>\n      <td>14.90</td>\n      <td>-24.50</td>\n      <td>83.73</td>\n      <td>94.0</td>\n      <td>57.0</td>\n      <td>12.44</td>\n      <td>1604057540</td>\n    </tr>\n    <tr>\n      <th>293</th>\n      <td>caravelas</td>\n      <td>BR</td>\n      <td>-17.71</td>\n      <td>-39.25</td>\n      <td>82.65</td>\n      <td>75.0</td>\n      <td>64.0</td>\n      <td>12.03</td>\n      <td>1604057544</td>\n    </tr>\n    <tr>\n      <th>297</th>\n      <td>pedernales</td>\n      <td>DO</td>\n      <td>18.04</td>\n      <td>-71.74</td>\n      <td>82.06</td>\n      <td>99.0</td>\n      <td>66.0</td>\n      <td>1.21</td>\n      <td>1604057546</td>\n    </tr>\n    <tr>\n      <th>298</th>\n      <td>quelimane</td>\n      <td>MZ</td>\n      <td>-17.88</td>\n      <td>36.89</td>\n      <td>89.60</td>\n      <td>75.0</td>\n      <td>59.0</td>\n      <td>13.87</td>\n      <td>1604057546</td>\n    </tr>\n    <tr>\n      <th>316</th>\n      <td>waingapu</td>\n      <td>ID</td>\n      <td>-9.66</td>\n      <td>120.26</td>\n      <td>82.67</td>\n      <td>85.0</td>\n      <td>75.0</td>\n      <td>3.15</td>\n      <td>1604057549</td>\n    </tr>\n    <tr>\n      <th>355</th>\n      <td>boa vista</td>\n      <td>BR</td>\n      <td>2.82</td>\n      <td>-60.67</td>\n      <td>80.60</td>\n      <td>75.0</td>\n      <td>78.0</td>\n      <td>1.12</td>\n      <td>1604057400</td>\n    </tr>\n    <tr>\n      <th>392</th>\n      <td>mweka</td>\n      <td>CD</td>\n      <td>-4.85</td>\n      <td>21.57</td>\n      <td>80.55</td>\n      <td>95.0</td>\n      <td>66.0</td>\n      <td>3.53</td>\n      <td>1604057567</td>\n    </tr>\n    <tr>\n      <th>403</th>\n      <td>caninde</td>\n      <td>BR</td>\n      <td>-4.36</td>\n      <td>-39.31</td>\n      <td>86.86</td>\n      <td>91.0</td>\n      <td>44.0</td>\n      <td>7.72</td>\n      <td>1604057548</td>\n    </tr>\n    <tr>\n      <th>406</th>\n      <td>sampit</td>\n      <td>ID</td>\n      <td>-2.53</td>\n      <td>112.95</td>\n      <td>80.10</td>\n      <td>85.0</td>\n      <td>83.0</td>\n      <td>3.38</td>\n      <td>1604057570</td>\n    </tr>\n    <tr>\n      <th>432</th>\n      <td>sibolga</td>\n      <td>ID</td>\n      <td>1.74</td>\n      <td>98.78</td>\n      <td>81.01</td>\n      <td>96.0</td>\n      <td>77.0</td>\n      <td>2.82</td>\n      <td>1604057283</td>\n    </tr>\n    <tr>\n      <th>434</th>\n      <td>kabalo</td>\n      <td>CD</td>\n      <td>-6.05</td>\n      <td>26.92</td>\n      <td>85.19</td>\n      <td>95.0</td>\n      <td>68.0</td>\n      <td>0.76</td>\n      <td>1604057577</td>\n    </tr>\n    <tr>\n      <th>464</th>\n      <td>lorengau</td>\n      <td>PG</td>\n      <td>-2.02</td>\n      <td>147.27</td>\n      <td>81.48</td>\n      <td>94.0</td>\n      <td>75.0</td>\n      <td>5.26</td>\n      <td>1604057584</td>\n    </tr>\n    <tr>\n      <th>523</th>\n      <td>port blair</td>\n      <td>IN</td>\n      <td>11.67</td>\n      <td>92.75</td>\n      <td>81.21</td>\n      <td>87.0</td>\n      <td>81.0</td>\n      <td>10.38</td>\n      <td>1604057596</td>\n    </tr>\n    <tr>\n      <th>529</th>\n      <td>denpasar</td>\n      <td>ID</td>\n      <td>-8.65</td>\n      <td>115.22</td>\n      <td>80.17</td>\n      <td>90.0</td>\n      <td>87.0</td>\n      <td>7.18</td>\n      <td>1604057435</td>\n    </tr>\n    <tr>\n      <th>550</th>\n      <td>bria</td>\n      <td>CF</td>\n      <td>6.54</td>\n      <td>21.99</td>\n      <td>83.30</td>\n      <td>71.0</td>\n      <td>67.0</td>\n      <td>3.27</td>\n      <td>1604057602</td>\n    </tr>\n    <tr>\n      <th>551</th>\n      <td>mogadishu</td>\n      <td>SO</td>\n      <td>2.04</td>\n      <td>45.34</td>\n      <td>82.94</td>\n      <td>72.0</td>\n      <td>67.0</td>\n      <td>12.17</td>\n      <td>1604057602</td>\n    </tr>\n    <tr>\n      <th>557</th>\n      <td>nioro</td>\n      <td>GM</td>\n      <td>13.35</td>\n      <td>-15.75</td>\n      <td>94.42</td>\n      <td>84.0</td>\n      <td>26.0</td>\n      <td>3.62</td>\n      <td>1604057604</td>\n    </tr>\n  </tbody>\n</table>\n</div>"
     },
     "metadata": {},
     "execution_count": 28
    }
   ],
   "source": [
    "idealdf = df[df[\"Cloudiness\"] > 70] \n",
    "idealdf = idealdf[df[\"Temp\"] > 50]\n",
    "idealdf = idealdf[df[\"Temp\"] > 80]\n",
    "idealdf = idealdf[df[\"WindSpeed\"] < 15]  \n",
    "idealdf"
   ]
  },
  {
   "cell_type": "markdown",
   "metadata": {},
   "source": [
    "### Hotel Map\n",
    "* Store into variable named `hotel_df`.\n",
    "* Add a \"Hotel Name\" column to the DataFrame.\n",
    "* Set parameters to search for hotels with 5000 meters.\n",
    "* Hit the Google Places API for each city's coordinates.\n",
    "* Store the first Hotel result into the DataFrame.\n",
    "* Plot markers on top of the heatmap."
   ]
  },
  {
   "cell_type": "code",
   "execution_count": 68,
   "metadata": {},
   "outputs": [
    {
     "output_type": "execute_result",
     "data": {
      "text/plain": [
       "           City Country     Lat     Lng Hotel Name\n",
       "0       honiara      SB   -9.43  159.95           \n",
       "1        vicuna      CL  -30.03  -70.71           \n",
       "2     carnarvon      AU  -24.87  113.63           \n",
       "3        albany      US    42.6  -73.97           \n",
       "4      powassan      CA   46.03  -79.35           \n",
       "..          ...     ...     ...     ...        ...\n",
       "566    upington      ZA  -28.45   21.26           \n",
       "567    ajdabiya      LY   30.76   20.23           \n",
       "568  filadelfia      US   39.95  -75.16           \n",
       "569      beloha      MG  -25.17   45.05           \n",
       "570   sabalgarh      IN   26.25    77.4           \n",
       "\n",
       "[571 rows x 5 columns]"
      ],
      "text/html": "<div>\n<style scoped>\n    .dataframe tbody tr th:only-of-type {\n        vertical-align: middle;\n    }\n\n    .dataframe tbody tr th {\n        vertical-align: top;\n    }\n\n    .dataframe thead th {\n        text-align: right;\n    }\n</style>\n<table border=\"1\" class=\"dataframe\">\n  <thead>\n    <tr style=\"text-align: right;\">\n      <th></th>\n      <th>City</th>\n      <th>Country</th>\n      <th>Lat</th>\n      <th>Lng</th>\n      <th>Hotel Name</th>\n    </tr>\n  </thead>\n  <tbody>\n    <tr>\n      <th>0</th>\n      <td>honiara</td>\n      <td>SB</td>\n      <td>-9.43</td>\n      <td>159.95</td>\n      <td></td>\n    </tr>\n    <tr>\n      <th>1</th>\n      <td>vicuna</td>\n      <td>CL</td>\n      <td>-30.03</td>\n      <td>-70.71</td>\n      <td></td>\n    </tr>\n    <tr>\n      <th>2</th>\n      <td>carnarvon</td>\n      <td>AU</td>\n      <td>-24.87</td>\n      <td>113.63</td>\n      <td></td>\n    </tr>\n    <tr>\n      <th>3</th>\n      <td>albany</td>\n      <td>US</td>\n      <td>42.6</td>\n      <td>-73.97</td>\n      <td></td>\n    </tr>\n    <tr>\n      <th>4</th>\n      <td>powassan</td>\n      <td>CA</td>\n      <td>46.03</td>\n      <td>-79.35</td>\n      <td></td>\n    </tr>\n    <tr>\n      <th>...</th>\n      <td>...</td>\n      <td>...</td>\n      <td>...</td>\n      <td>...</td>\n      <td>...</td>\n    </tr>\n    <tr>\n      <th>566</th>\n      <td>upington</td>\n      <td>ZA</td>\n      <td>-28.45</td>\n      <td>21.26</td>\n      <td></td>\n    </tr>\n    <tr>\n      <th>567</th>\n      <td>ajdabiya</td>\n      <td>LY</td>\n      <td>30.76</td>\n      <td>20.23</td>\n      <td></td>\n    </tr>\n    <tr>\n      <th>568</th>\n      <td>filadelfia</td>\n      <td>US</td>\n      <td>39.95</td>\n      <td>-75.16</td>\n      <td></td>\n    </tr>\n    <tr>\n      <th>569</th>\n      <td>beloha</td>\n      <td>MG</td>\n      <td>-25.17</td>\n      <td>45.05</td>\n      <td></td>\n    </tr>\n    <tr>\n      <th>570</th>\n      <td>sabalgarh</td>\n      <td>IN</td>\n      <td>26.25</td>\n      <td>77.4</td>\n      <td></td>\n    </tr>\n  </tbody>\n</table>\n<p>571 rows × 5 columns</p>\n</div>"
     },
     "metadata": {},
     "execution_count": 68
    }
   ],
   "source": [
    "hotel_df = pd.DataFrame(df, columns=[\"City\", \"Country\",\"Lat\", \"Lng\",])\n",
    "hotel_df[\"Hotel Name\"] = \"\"\n",
    "hotel_df[\"Lat\"] = hotel_df[\"Lat\"].astype(str)\n",
    "hotel_df[\"Lng\"] = hotel_df[\"Lng\"].astype(str)\n",
    "hotel_df"
   ]
  },
  {
   "cell_type": "code",
   "execution_count": 65,
   "metadata": {},
   "outputs": [],
   "source": [
    "\n",
    "url1 =\"https://maps.googleapis.com/maps/api/place/nearbysearch/json?location=\"\n",
    "url2 = f\"&radius=5000&type=lodging&keyword=hotel&key={g_key}\"\n"
   ]
  },
  {
   "cell_type": "code",
   "execution_count": 71,
   "metadata": {
    "tags": []
   },
   "outputs": [
    {
     "output_type": "execute_result",
     "data": {
      "text/plain": [
       "{'error_message': 'You have exceeded your daily request quota for this API. If you did not set a custom daily request quota, verify your project has an active billing account: http://g.co/dev/maps-no-account',\n",
       " 'html_attributions': [],\n",
       " 'results': [],\n",
       " 'status': 'OVER_QUERY_LIMIT'}"
      ]
     },
     "metadata": {},
     "execution_count": 71
    }
   ],
   "source": [
    "response = requests.get(url1 + \"33.753746,-84.386330\" + url2).json()\n",
    "response"
   ]
  },
  {
   "cell_type": "code",
   "execution_count": 70,
   "metadata": {},
   "outputs": [
    {
     "output_type": "error",
     "ename": "IndexError",
     "evalue": "list index out of range",
     "traceback": [
      "\u001b[1;31m---------------------------------------------------------------------------\u001b[0m",
      "\u001b[1;31mIndexError\u001b[0m                                Traceback (most recent call last)",
      "\u001b[1;32m<ipython-input-70-8be1e12bdc75>\u001b[0m in \u001b[0;36m<module>\u001b[1;34m\u001b[0m\n\u001b[0;32m      2\u001b[0m     \u001b[0mresponse\u001b[0m \u001b[1;33m=\u001b[0m \u001b[0mrequests\u001b[0m\u001b[1;33m.\u001b[0m\u001b[0mget\u001b[0m\u001b[1;33m(\u001b[0m\u001b[0murl1\u001b[0m \u001b[1;33m+\u001b[0m \u001b[0mrow\u001b[0m\u001b[1;33m[\u001b[0m\u001b[1;34m\"Lat\"\u001b[0m\u001b[1;33m]\u001b[0m \u001b[1;33m+\u001b[0m \u001b[1;34m\",\"\u001b[0m \u001b[1;33m+\u001b[0m \u001b[0mrow\u001b[0m\u001b[1;33m[\u001b[0m\u001b[1;34m\"Lng\"\u001b[0m\u001b[1;33m]\u001b[0m \u001b[1;33m+\u001b[0m \u001b[0murl2\u001b[0m\u001b[1;33m)\u001b[0m\u001b[1;33m.\u001b[0m\u001b[0mjson\u001b[0m\u001b[1;33m(\u001b[0m\u001b[1;33m)\u001b[0m\u001b[1;33m\u001b[0m\u001b[1;33m\u001b[0m\u001b[0m\n\u001b[0;32m      3\u001b[0m     \u001b[1;31m# try:\u001b[0m\u001b[1;33m\u001b[0m\u001b[1;33m\u001b[0m\u001b[1;33m\u001b[0m\u001b[0m\n\u001b[1;32m----> 4\u001b[1;33m     \u001b[0mhotel_df\u001b[0m\u001b[1;33m.\u001b[0m\u001b[0mloc\u001b[0m\u001b[1;33m[\u001b[0m\u001b[0mindex\u001b[0m\u001b[1;33m,\u001b[0m \u001b[1;34m\"Hotel Name\"\u001b[0m\u001b[1;33m]\u001b[0m \u001b[1;33m=\u001b[0m \u001b[0mresponse\u001b[0m\u001b[1;33m[\u001b[0m\u001b[1;34m'results'\u001b[0m\u001b[1;33m]\u001b[0m\u001b[1;33m[\u001b[0m\u001b[1;36m0\u001b[0m\u001b[1;33m]\u001b[0m\u001b[1;33m[\u001b[0m\u001b[1;34m\"name\"\u001b[0m\u001b[1;33m]\u001b[0m\u001b[1;33m\u001b[0m\u001b[1;33m\u001b[0m\u001b[0m\n\u001b[0m\u001b[0;32m      5\u001b[0m     \u001b[1;31m# except:\u001b[0m\u001b[1;33m\u001b[0m\u001b[1;33m\u001b[0m\u001b[1;33m\u001b[0m\u001b[0m\n\u001b[0;32m      6\u001b[0m     \u001b[1;31m#     hotel_df.loc[index, \"Hotel Name\"] = \"None\"\u001b[0m\u001b[1;33m\u001b[0m\u001b[1;33m\u001b[0m\u001b[1;33m\u001b[0m\u001b[0m\n",
      "\u001b[1;31mIndexError\u001b[0m: list index out of range"
     ]
    }
   ],
   "source": [
    "for index, row in hotel_df.iterrows():\n",
    "    response = requests.get(url1 + row[\"Lat\"] + \",\" + row[\"Lng\"] + url2).json()\n",
    "    try:\n",
    "        hotel_df.loc[index, \"Hotel Name\"] = response['results'][0][\"name\"]\n",
    "    except:\n",
    "        hotel_df.loc[index, \"Hotel Name\"] = \"None\""
   ]
  },
  {
   "cell_type": "code",
   "execution_count": 67,
   "metadata": {},
   "outputs": [
    {
     "output_type": "execute_result",
     "data": {
      "text/plain": [
       "           City Country     Lat     Lng Hotel Name\n",
       "0       honiara      SB   -9.43  159.95       None\n",
       "1        vicuna      CL  -30.03  -70.71       None\n",
       "2     carnarvon      AU  -24.87  113.63       None\n",
       "3        albany      US    42.6  -73.97       None\n",
       "4      powassan      CA   46.03  -79.35       None\n",
       "..          ...     ...     ...     ...        ...\n",
       "566    upington      ZA  -28.45   21.26       None\n",
       "567    ajdabiya      LY   30.76   20.23       None\n",
       "568  filadelfia      US   39.95  -75.16       None\n",
       "569      beloha      MG  -25.17   45.05       None\n",
       "570   sabalgarh      IN   26.25    77.4       None\n",
       "\n",
       "[571 rows x 5 columns]"
      ],
      "text/html": "<div>\n<style scoped>\n    .dataframe tbody tr th:only-of-type {\n        vertical-align: middle;\n    }\n\n    .dataframe tbody tr th {\n        vertical-align: top;\n    }\n\n    .dataframe thead th {\n        text-align: right;\n    }\n</style>\n<table border=\"1\" class=\"dataframe\">\n  <thead>\n    <tr style=\"text-align: right;\">\n      <th></th>\n      <th>City</th>\n      <th>Country</th>\n      <th>Lat</th>\n      <th>Lng</th>\n      <th>Hotel Name</th>\n    </tr>\n  </thead>\n  <tbody>\n    <tr>\n      <th>0</th>\n      <td>honiara</td>\n      <td>SB</td>\n      <td>-9.43</td>\n      <td>159.95</td>\n      <td>None</td>\n    </tr>\n    <tr>\n      <th>1</th>\n      <td>vicuna</td>\n      <td>CL</td>\n      <td>-30.03</td>\n      <td>-70.71</td>\n      <td>None</td>\n    </tr>\n    <tr>\n      <th>2</th>\n      <td>carnarvon</td>\n      <td>AU</td>\n      <td>-24.87</td>\n      <td>113.63</td>\n      <td>None</td>\n    </tr>\n    <tr>\n      <th>3</th>\n      <td>albany</td>\n      <td>US</td>\n      <td>42.6</td>\n      <td>-73.97</td>\n      <td>None</td>\n    </tr>\n    <tr>\n      <th>4</th>\n      <td>powassan</td>\n      <td>CA</td>\n      <td>46.03</td>\n      <td>-79.35</td>\n      <td>None</td>\n    </tr>\n    <tr>\n      <th>...</th>\n      <td>...</td>\n      <td>...</td>\n      <td>...</td>\n      <td>...</td>\n      <td>...</td>\n    </tr>\n    <tr>\n      <th>566</th>\n      <td>upington</td>\n      <td>ZA</td>\n      <td>-28.45</td>\n      <td>21.26</td>\n      <td>None</td>\n    </tr>\n    <tr>\n      <th>567</th>\n      <td>ajdabiya</td>\n      <td>LY</td>\n      <td>30.76</td>\n      <td>20.23</td>\n      <td>None</td>\n    </tr>\n    <tr>\n      <th>568</th>\n      <td>filadelfia</td>\n      <td>US</td>\n      <td>39.95</td>\n      <td>-75.16</td>\n      <td>None</td>\n    </tr>\n    <tr>\n      <th>569</th>\n      <td>beloha</td>\n      <td>MG</td>\n      <td>-25.17</td>\n      <td>45.05</td>\n      <td>None</td>\n    </tr>\n    <tr>\n      <th>570</th>\n      <td>sabalgarh</td>\n      <td>IN</td>\n      <td>26.25</td>\n      <td>77.4</td>\n      <td>None</td>\n    </tr>\n  </tbody>\n</table>\n<p>571 rows × 5 columns</p>\n</div>"
     },
     "metadata": {},
     "execution_count": 67
    }
   ],
   "source": [
    "hotel_df"
   ]
  },
  {
   "cell_type": "code",
   "execution_count": 63,
   "metadata": {},
   "outputs": [
    {
     "output_type": "execute_result",
     "data": {
      "text/plain": [
       "           City Country     Lat      Lng                       Hotel Name\n",
       "0       honiara      SB   -9.43   159.95     Solomon Kitano Mendana Hotel\n",
       "2     carnarvon      AU  -24.87   113.63  Carnarvon Sea Change Apartments\n",
       "5     upernavik      GL   72.79   -56.15    Gina's Guesthouse - Upernavik\n",
       "6  punta arenas      CL  -53.15   -70.92        Hotel Dreams Punta Arenas\n",
       "7        avarua      CK  -21.21  -159.78     The Edgewater Resort and Spa\n",
       "8  puerto ayora      EC   -0.74   -90.35        Finch Bay Galapagos Hotel"
      ],
      "text/html": "<div>\n<style scoped>\n    .dataframe tbody tr th:only-of-type {\n        vertical-align: middle;\n    }\n\n    .dataframe tbody tr th {\n        vertical-align: top;\n    }\n\n    .dataframe thead th {\n        text-align: right;\n    }\n</style>\n<table border=\"1\" class=\"dataframe\">\n  <thead>\n    <tr style=\"text-align: right;\">\n      <th></th>\n      <th>City</th>\n      <th>Country</th>\n      <th>Lat</th>\n      <th>Lng</th>\n      <th>Hotel Name</th>\n    </tr>\n  </thead>\n  <tbody>\n    <tr>\n      <th>0</th>\n      <td>honiara</td>\n      <td>SB</td>\n      <td>-9.43</td>\n      <td>159.95</td>\n      <td>Solomon Kitano Mendana Hotel</td>\n    </tr>\n    <tr>\n      <th>2</th>\n      <td>carnarvon</td>\n      <td>AU</td>\n      <td>-24.87</td>\n      <td>113.63</td>\n      <td>Carnarvon Sea Change Apartments</td>\n    </tr>\n    <tr>\n      <th>5</th>\n      <td>upernavik</td>\n      <td>GL</td>\n      <td>72.79</td>\n      <td>-56.15</td>\n      <td>Gina's Guesthouse - Upernavik</td>\n    </tr>\n    <tr>\n      <th>6</th>\n      <td>punta arenas</td>\n      <td>CL</td>\n      <td>-53.15</td>\n      <td>-70.92</td>\n      <td>Hotel Dreams Punta Arenas</td>\n    </tr>\n    <tr>\n      <th>7</th>\n      <td>avarua</td>\n      <td>CK</td>\n      <td>-21.21</td>\n      <td>-159.78</td>\n      <td>The Edgewater Resort and Spa</td>\n    </tr>\n    <tr>\n      <th>8</th>\n      <td>puerto ayora</td>\n      <td>EC</td>\n      <td>-0.74</td>\n      <td>-90.35</td>\n      <td>Finch Bay Galapagos Hotel</td>\n    </tr>\n  </tbody>\n</table>\n</div>"
     },
     "metadata": {},
     "execution_count": 63
    }
   ],
   "source": [
    "hotel_df = hotel_df[hotel_df != \"None\"]\n",
    "hotel_df.dropna(inplace=True)\n",
    "hotel_df"
   ]
  },
  {
   "cell_type": "code",
   "execution_count": 59,
   "metadata": {},
   "outputs": [
    {
     "output_type": "error",
     "ename": "KeyError",
     "evalue": "'Country'",
     "traceback": [
      "\u001b[1;31m---------------------------------------------------------------------------\u001b[0m",
      "\u001b[1;31mKeyError\u001b[0m                                  Traceback (most recent call last)",
      "\u001b[1;32m<ipython-input-59-464b2b3e63ad>\u001b[0m in \u001b[0;36m<module>\u001b[1;34m\u001b[0m\n\u001b[0;32m     11\u001b[0m \u001b[1;31m# Store the DataFrame Row\u001b[0m\u001b[1;33m\u001b[0m\u001b[1;33m\u001b[0m\u001b[1;33m\u001b[0m\u001b[0m\n\u001b[0;32m     12\u001b[0m \u001b[1;31m# NOTE: be sure to update with your DataFrame name\u001b[0m\u001b[1;33m\u001b[0m\u001b[1;33m\u001b[0m\u001b[1;33m\u001b[0m\u001b[0m\n\u001b[1;32m---> 13\u001b[1;33m \u001b[0mhotel_info\u001b[0m \u001b[1;33m=\u001b[0m \u001b[1;33m[\u001b[0m\u001b[0minfo_box_template\u001b[0m\u001b[1;33m.\u001b[0m\u001b[0mformat\u001b[0m\u001b[1;33m(\u001b[0m\u001b[1;33m**\u001b[0m\u001b[0mrow\u001b[0m\u001b[1;33m)\u001b[0m \u001b[1;32mfor\u001b[0m \u001b[0mindex\u001b[0m\u001b[1;33m,\u001b[0m \u001b[0mrow\u001b[0m \u001b[1;32min\u001b[0m \u001b[0mhotel_df\u001b[0m\u001b[1;33m.\u001b[0m\u001b[0miterrows\u001b[0m\u001b[1;33m(\u001b[0m\u001b[1;33m)\u001b[0m\u001b[1;33m]\u001b[0m\u001b[1;33m\u001b[0m\u001b[1;33m\u001b[0m\u001b[0m\n\u001b[0m\u001b[0;32m     14\u001b[0m \u001b[0mlocations\u001b[0m \u001b[1;33m=\u001b[0m \u001b[0mhotel_df\u001b[0m\u001b[1;33m[\u001b[0m\u001b[1;33m[\u001b[0m\u001b[1;34m\"Lat\"\u001b[0m\u001b[1;33m,\u001b[0m \u001b[1;34m\"Lng\"\u001b[0m\u001b[1;33m]\u001b[0m\u001b[1;33m]\u001b[0m\u001b[1;33m\u001b[0m\u001b[1;33m\u001b[0m\u001b[0m\n",
      "\u001b[1;32m<ipython-input-59-464b2b3e63ad>\u001b[0m in \u001b[0;36m<listcomp>\u001b[1;34m(.0)\u001b[0m\n\u001b[0;32m     11\u001b[0m \u001b[1;31m# Store the DataFrame Row\u001b[0m\u001b[1;33m\u001b[0m\u001b[1;33m\u001b[0m\u001b[1;33m\u001b[0m\u001b[0m\n\u001b[0;32m     12\u001b[0m \u001b[1;31m# NOTE: be sure to update with your DataFrame name\u001b[0m\u001b[1;33m\u001b[0m\u001b[1;33m\u001b[0m\u001b[1;33m\u001b[0m\u001b[0m\n\u001b[1;32m---> 13\u001b[1;33m \u001b[0mhotel_info\u001b[0m \u001b[1;33m=\u001b[0m \u001b[1;33m[\u001b[0m\u001b[0minfo_box_template\u001b[0m\u001b[1;33m.\u001b[0m\u001b[0mformat\u001b[0m\u001b[1;33m(\u001b[0m\u001b[1;33m**\u001b[0m\u001b[0mrow\u001b[0m\u001b[1;33m)\u001b[0m \u001b[1;32mfor\u001b[0m \u001b[0mindex\u001b[0m\u001b[1;33m,\u001b[0m \u001b[0mrow\u001b[0m \u001b[1;32min\u001b[0m \u001b[0mhotel_df\u001b[0m\u001b[1;33m.\u001b[0m\u001b[0miterrows\u001b[0m\u001b[1;33m(\u001b[0m\u001b[1;33m)\u001b[0m\u001b[1;33m]\u001b[0m\u001b[1;33m\u001b[0m\u001b[1;33m\u001b[0m\u001b[0m\n\u001b[0m\u001b[0;32m     14\u001b[0m \u001b[0mlocations\u001b[0m \u001b[1;33m=\u001b[0m \u001b[0mhotel_df\u001b[0m\u001b[1;33m[\u001b[0m\u001b[1;33m[\u001b[0m\u001b[1;34m\"Lat\"\u001b[0m\u001b[1;33m,\u001b[0m \u001b[1;34m\"Lng\"\u001b[0m\u001b[1;33m]\u001b[0m\u001b[1;33m]\u001b[0m\u001b[1;33m\u001b[0m\u001b[1;33m\u001b[0m\u001b[0m\n",
      "\u001b[1;31mKeyError\u001b[0m: 'Country'"
     ]
    }
   ],
   "source": [
    "# NOTE: Do not change any of the code in this cell\n",
    "\n",
    "# Using the template add the hotel marks to the heatmap\n",
    "info_box_template = \"\"\"\n",
    "<dl>\n",
    "<dt>Name</dt><dd>{Hotel Name}</dd>\n",
    "<dt>City</dt><dd>{City}</dd>\n",
    "<dt>Country</dt><dd>{Country}</dd>\n",
    "</dl>\n",
    "\"\"\"\n",
    "# Store the DataFrame Row\n",
    "# NOTE: be sure to update with your DataFrame name\n",
    "hotel_info = [info_box_template.format(**row) for index, row in hotel_df.iterrows()]\n",
    "locations = hotel_df[[\"Lat\", \"Lng\"]]"
   ]
  },
  {
   "cell_type": "code",
   "execution_count": null,
   "metadata": {},
   "outputs": [],
   "source": [
    "# Add marker layer ontop of heat map\n",
    "markers = gmaps.marker_layer(locations, hotel_info)\n",
    "fig.add_layer(markers)\n",
    "fig\n",
    "# Display figure\n"
   ]
  },
  {
   "cell_type": "code",
   "execution_count": null,
   "metadata": {},
   "outputs": [],
   "source": []
  }
 ],
 "metadata": {
  "kernelspec": {
   "name": "Python 3.7.6 64-bit (conda)",
   "display_name": "Python 3.7.6 64-bit (conda)",
   "metadata": {
    "interpreter": {
     "hash": "5209508d17008b3ba90e1d11daa189ee608b1e7c32171ff7884df8da8b307988"
    }
   }
  },
  "language_info": {
   "codemirror_mode": {
    "name": "ipython",
    "version": 3
   },
   "file_extension": ".py",
   "mimetype": "text/x-python",
   "name": "python",
   "nbconvert_exporter": "python",
   "pygments_lexer": "ipython3",
   "version": "3.7.6-final"
  },
  "latex_envs": {
   "LaTeX_envs_menu_present": true,
   "autoclose": false,
   "autocomplete": true,
   "bibliofile": "biblio.bib",
   "cite_by": "apalike",
   "current_citInitial": 1,
   "eqLabelWithNumbers": true,
   "eqNumInitial": 1,
   "hotkeys": {
    "equation": "Ctrl-E",
    "itemize": "Ctrl-I"
   },
   "labels_anchors": false,
   "latex_user_defs": false,
   "report_style_numbering": false,
   "user_envs_cfg": false
  }
 },
 "nbformat": 4,
 "nbformat_minor": 2
}